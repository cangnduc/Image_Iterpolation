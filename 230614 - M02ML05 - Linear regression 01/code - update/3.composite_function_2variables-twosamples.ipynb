{
 "cells": [
  {
   "cell_type": "markdown",
   "id": "30a65447",
   "metadata": {},
   "source": [
    "### Composite function"
   ]
  },
  {
   "cell_type": "code",
   "execution_count": null,
   "id": "6bd4da32",
   "metadata": {},
   "outputs": [],
   "source": [
    "'''\n",
    "f(x) = ax + b\n",
    "g(f) = (f-y)^2\n",
    "(x=-2, y=-1)\n",
    "(x=5, y=13)\n",
    "'''\n",
    "# black box: f(x) = 2x + 3"
   ]
  },
  {
   "cell_type": "code",
   "execution_count": 1,
   "id": "fe6c3456",
   "metadata": {},
   "outputs": [],
   "source": [
    "import numpy as np\n",
    "import matplotlib.pyplot as plt\n",
    "%matplotlib qt\n",
    "\n",
    "# f function\n",
    "def blackbox_func(x):\n",
    "    return 2*x + 3\n",
    "\n",
    "def func1(x):\n",
    "    return 3*x - 7\n",
    "\n",
    "def func2(x):\n",
    "    return -x + 8\n",
    "\n",
    "# plot f_func\n",
    "x_list = np.arange(-10, 10, 0.1).tolist()\n",
    "fx_list = [blackbox_func(x) for x in x_list]\n",
    "fx1_list = [func1(x) for x in x_list]\n",
    "fx2_list = [func2(x) for x in x_list]\n",
    "\n",
    "#plt.plot(x_list, fx_list, 'r')\n",
    "plt.plot(x_list, fx1_list, 'g')\n",
    "plt.plot(x_list, fx2_list, 'b')\n",
    "plt.show()"
   ]
  },
  {
   "cell_type": "code",
   "execution_count": null,
   "id": "b0252157",
   "metadata": {},
   "outputs": [],
   "source": []
  },
  {
   "cell_type": "markdown",
   "id": "c4ef4fd2",
   "metadata": {},
   "source": [
    "### Optimization"
   ]
  },
  {
   "cell_type": "code",
   "execution_count": 5,
   "id": "5adaf24a",
   "metadata": {},
   "outputs": [
    {
     "name": "stdout",
     "output_type": "stream",
     "text": [
      "-4.7894090620092475 0.9669133397310432\n",
      "a: -4.7894090620092475 and b: 0.9669133397310432\n",
      "g_value_1: 133.30391503301607 and g_value_1: 133.30391503301607\n",
      "-------------\n",
      "a: 2.098425796504029 and b: 2.0940473159033397\n",
      "g_value_1: 1.216177273600461 and g_value_1: 1.216177273600461\n",
      "-------------\n",
      "a: 2.0707864970830046 and b: 2.355149776139301\n",
      "g_value_1: 0.618461477851483 and g_value_1: 0.618461477851483\n",
      "-------------\n",
      "a: 2.0503915631300287 and b: 2.5409443374418577\n",
      "g_value_1: 0.3134194694654288 and g_value_1: 0.3134194694654288\n",
      "-------------\n",
      "a: 2.0358727222757484 and b: 2.673207670846411\n",
      "g_value_1: 0.15883235706980628 and g_value_1: 0.15883235706980628\n",
      "-------------\n",
      "a: 2.025537056661725 and b: 2.7673632304216484\n",
      "g_value_1: 0.08049186507691977 and g_value_1: 0.08049186507691977\n",
      "-------------\n",
      "a: 2.018179307885562 and b: 2.834390645888094\n",
      "g_value_1: 0.04079106085867238 and g_value_1: 0.04079106085867238\n",
      "-------------\n",
      "a: 2.0129414771473404 and b: 2.882106090885494\n",
      "g_value_1: 0.020671786451783934 and g_value_1: 0.020671786451783934\n",
      "-------------\n",
      "a: 2.0092127726649127 and b: 2.9160737394283442\n",
      "g_value_1: 0.01047589217129448 and g_value_1: 0.01047589217129448\n",
      "-------------\n",
      "a: 2.0065583842716754 and b: 2.9402546130971006\n",
      "g_value_1: 0.005308893696273542 and g_value_1: 0.005308893696273542\n",
      "-------------\n"
     ]
    }
   ],
   "source": [
    "import random\n",
    "\n",
    "# predict function\n",
    "def predicted_func(x, a, b):\n",
    "    return a*x + b\n",
    "\n",
    "# parameters\n",
    "num_steps = 100\n",
    "lr = 0.01\n",
    "\n",
    "# given data \n",
    "x1 = -2\n",
    "y1 = -1\n",
    "\n",
    "x2 = 5\n",
    "y2 = 13\n",
    "\n",
    "# 1. set a, b randomly\n",
    "a = random.random()*10.0 - 5.0\n",
    "b = random.random()*10.0 - 5.0\n",
    "print(a, b)\n",
    "\n",
    "for i in range(num_steps):\n",
    "    # 2. compute predicted_y1 and predicted_y2, given x1=1 and x2=2\n",
    "    predicted_y1 = predicted_func(x1, a, b)\n",
    "    predicted_y2 = predicted_func(x2, a, b)\n",
    "\n",
    "    # 3. compute g\n",
    "    g_value_1 = (predicted_y1 - y1)**2\n",
    "    g_value_2 = (predicted_y2 - y2)**2\n",
    "    \n",
    "    # print\n",
    "    if i%10==0:\n",
    "        print(f'a: {a} and b: {b}')\n",
    "        print(f'g_value_1: {g_value_1} and g_value_1: {g_value_1}')\n",
    "        print('-------------')\n",
    "    \n",
    "    # 4. compute partial gradients for a and b\n",
    "    dg_da = 2*x1*(predicted_y1 - y1) + 2*x2*(predicted_y2 - y2)\n",
    "    dg_db = 2*(predicted_y1 - y1) + 2*(predicted_y2 - y2)\n",
    "            \n",
    "    # 5. update\n",
    "    a = a - lr*dg_da \n",
    "    b = b - lr*dg_db"
   ]
  },
  {
   "cell_type": "code",
   "execution_count": null,
   "id": "3693dcb9",
   "metadata": {},
   "outputs": [],
   "source": []
  },
  {
   "cell_type": "code",
   "execution_count": 6,
   "id": "1bf5ccc2",
   "metadata": {},
   "outputs": [
    {
     "data": {
      "image/png": "[encoded data removed]",
      "text/plain": [
       "<Figure size 640x480 with 1 Axes>"
      ]
     },
     "metadata": {},
     "output_type": "display_data"
    }
   ],
   "source": [
    "import numpy as np\n",
    "import matplotlib.pyplot as plt\n",
    "\n",
    "# f function\n",
    "def blackbox_func(x):\n",
    "    return 2*x + 3\n",
    "\n",
    "def func1(x):\n",
    "    return 2.006*x + 2.9402\n",
    "\n",
    "# plot f_func\n",
    "x_list = np.arange(-10, 10, 0.1).tolist()\n",
    "fx_list = [blackbox_func(x) for x in x_list]\n",
    "fx1_list = [func1(x) for x in x_list]\n",
    "\n",
    "plt.plot(x_list, fx_list, 'r')\n",
    "plt.plot(x_list, fx1_list, 'g')\n",
    "plt.show()"
   ]
  },
  {
   "cell_type": "code",
   "execution_count": null,
   "id": "020a63d3",
   "metadata": {},
   "outputs": [],
   "source": []
  }
 ],
 "metadata": {
  "kernelspec": {
   "display_name": "Python 3 (ipykernel)",
   "language": "python",
   "name": "python3"
  },
  "language_info": {
   "codemirror_mode": {
    "name": "ipython",
    "version": 3
   },
   "file_extension": ".py",
   "mimetype": "text/x-python",
   "name": "python",
   "nbconvert_exporter": "python",
   "pygments_lexer": "ipython3",
   "version": "3.9.13"
  }
 },
 "nbformat": 4,
 "nbformat_minor": 5
}
