{
 "cells": [
  {
   "cell_type": "markdown",
   "id": "c34266c5",
   "metadata": {},
   "source": [
    "#### Softmax (List)"
   ]
  },
  {
   "cell_type": "code",
   "execution_count": 1,
   "id": "2a290bb1",
   "metadata": {},
   "outputs": [],
   "source": [
    "import math\n",
    "\n",
    "def naive_softmax(data):\n",
    "    exp_data = [math.exp(x) for x in data]\n",
    "    sum_exp_data = sum(exp_data)\n",
    "    result = [x/sum_exp_data for x in exp_data]\n",
    "    return result"
   ]
  },
  {
   "cell_type": "code",
   "execution_count": 2,
   "id": "8c4481ed",
   "metadata": {},
   "outputs": [
    {
     "name": "stdout",
     "output_type": "stream",
     "text": [
      "[0.09003057317038046, 0.24472847105479767, 0.6652409557748219]\n"
     ]
    }
   ],
   "source": [
    "data1 = [1.0, 2.0, 3.0]\n",
    "print(naive_softmax(data1))"
   ]
  },
  {
   "cell_type": "code",
   "execution_count": 3,
   "id": "84ec9cd8",
   "metadata": {},
   "outputs": [
    {
     "ename": "OverflowError",
     "evalue": "math range error",
     "output_type": "error",
     "traceback": [
      "\u001b[1;31m---------------------------------------------------------------------------\u001b[0m",
      "\u001b[1;31mOverflowError\u001b[0m                             Traceback (most recent call last)",
      "Cell \u001b[1;32mIn [3], line 2\u001b[0m\n\u001b[0;32m      1\u001b[0m data2 \u001b[38;5;241m=\u001b[39m [\u001b[38;5;241m1000.0\u001b[39m, \u001b[38;5;241m1001.0\u001b[39m, \u001b[38;5;241m1002.0\u001b[39m]\n\u001b[1;32m----> 2\u001b[0m \u001b[38;5;28mprint\u001b[39m(\u001b[43mnaive_softmax\u001b[49m\u001b[43m(\u001b[49m\u001b[43mdata2\u001b[49m\u001b[43m)\u001b[49m)\n",
      "Cell \u001b[1;32mIn [1], line 4\u001b[0m, in \u001b[0;36mnaive_softmax\u001b[1;34m(data)\u001b[0m\n\u001b[0;32m      3\u001b[0m \u001b[38;5;28;01mdef\u001b[39;00m \u001b[38;5;21mnaive_softmax\u001b[39m(data):\n\u001b[1;32m----> 4\u001b[0m     exp_data \u001b[38;5;241m=\u001b[39m [math\u001b[38;5;241m.\u001b[39mexp(x) \u001b[38;5;28;01mfor\u001b[39;00m x \u001b[38;5;129;01min\u001b[39;00m data]\n\u001b[0;32m      5\u001b[0m     sum_exp_data \u001b[38;5;241m=\u001b[39m \u001b[38;5;28msum\u001b[39m(exp_data)\n\u001b[0;32m      6\u001b[0m     result \u001b[38;5;241m=\u001b[39m [x\u001b[38;5;241m/\u001b[39msum_exp_data \u001b[38;5;28;01mfor\u001b[39;00m x \u001b[38;5;129;01min\u001b[39;00m exp_data]\n",
      "Cell \u001b[1;32mIn [1], line 4\u001b[0m, in \u001b[0;36m<listcomp>\u001b[1;34m(.0)\u001b[0m\n\u001b[0;32m      3\u001b[0m \u001b[38;5;28;01mdef\u001b[39;00m \u001b[38;5;21mnaive_softmax\u001b[39m(data):\n\u001b[1;32m----> 4\u001b[0m     exp_data \u001b[38;5;241m=\u001b[39m [\u001b[43mmath\u001b[49m\u001b[38;5;241;43m.\u001b[39;49m\u001b[43mexp\u001b[49m\u001b[43m(\u001b[49m\u001b[43mx\u001b[49m\u001b[43m)\u001b[49m \u001b[38;5;28;01mfor\u001b[39;00m x \u001b[38;5;129;01min\u001b[39;00m data]\n\u001b[0;32m      5\u001b[0m     sum_exp_data \u001b[38;5;241m=\u001b[39m \u001b[38;5;28msum\u001b[39m(exp_data)\n\u001b[0;32m      6\u001b[0m     result \u001b[38;5;241m=\u001b[39m [x\u001b[38;5;241m/\u001b[39msum_exp_data \u001b[38;5;28;01mfor\u001b[39;00m x \u001b[38;5;129;01min\u001b[39;00m exp_data]\n",
      "\u001b[1;31mOverflowError\u001b[0m: math range error"
     ]
    }
   ],
   "source": [
    "# have errors as input numbers are too big\n",
    "data2 = [1000.0, 1001.0, 1002.0]\n",
    "print(naive_softmax(data2))"
   ]
  },
  {
   "cell_type": "code",
   "execution_count": null,
   "id": "1625d580",
   "metadata": {},
   "outputs": [],
   "source": []
  },
  {
   "cell_type": "code",
   "execution_count": null,
   "id": "a4c27b2a",
   "metadata": {},
   "outputs": [],
   "source": []
  },
  {
   "cell_type": "code",
   "execution_count": 9,
   "id": "2379e1eb",
   "metadata": {},
   "outputs": [],
   "source": [
    "import math\n",
    "\n",
    "def robust_softmax(data):\n",
    "    max_value = max(data)\n",
    "    data = [x-max_value for x in data]\n",
    "    \n",
    "    exp_data = [math.exp(x) for x in data]\n",
    "    sum_exp_data = sum(exp_data)\n",
    "    result = [x/sum_exp_data for x in exp_data]\n",
    "    \n",
    "    return result"
   ]
  },
  {
   "cell_type": "code",
   "execution_count": 16,
   "id": "9d0c373c",
   "metadata": {},
   "outputs": [],
   "source": [
    "data1 = [1.0, 2.0, 3.0]\n",
    "print(robust_softmax(data1))\n",
    "# [0.0900305, 0.2447284, 0.6652409]"
   ]
  },
  {
   "cell_type": "code",
   "execution_count": 17,
   "id": "bf45c60c",
   "metadata": {},
   "outputs": [],
   "source": [
    "data2 = [1000.0, 1001.0, 1002.0]\n",
    "print(robust_softmax(data2))\n",
    "# [0.0900305, 0.2447284, 0.6652409]"
   ]
  },
  {
   "cell_type": "code",
   "execution_count": 18,
   "id": "57ec4c7d",
   "metadata": {},
   "outputs": [],
   "source": [
    "data3 = [1.0, 1001.0, 1002.0]\n",
    "print(robust_softmax(data3))\n",
    "# [0.0, 0.26894142, 0.73105857]"
   ]
  },
  {
   "cell_type": "code",
   "execution_count": null,
   "id": "b73e11d5",
   "metadata": {},
   "outputs": [],
   "source": []
  }
 ],
 "metadata": {
  "kernelspec": {
   "display_name": "Python 3 (ipykernel)",
   "language": "python",
   "name": "python3"
  },
  "language_info": {
   "codemirror_mode": {
    "name": "ipython",
    "version": 3
   },
   "file_extension": ".py",
   "mimetype": "text/x-python",
   "name": "python",
   "nbconvert_exporter": "python",
   "pygments_lexer": "ipython3",
   "version": "3.9.13"
  }
 },
 "nbformat": 4,
 "nbformat_minor": 5
}
