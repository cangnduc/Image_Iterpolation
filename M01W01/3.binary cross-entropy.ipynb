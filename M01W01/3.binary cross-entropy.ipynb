{
 "cells": [
  {
   "cell_type": "markdown",
   "id": "cca30511",
   "metadata": {},
   "source": [
    "#### Binary cross-entropy"
   ]
  },
  {
   "cell_type": "code",
   "execution_count": 1,
   "id": "46578ea9",
   "metadata": {},
   "outputs": [],
   "source": [
    "import math\n",
    "\n",
    "def binary_crossentropy(y, y_hat):\n",
    "    return -y*math.log(y_hat) - (1-y)*math.log(1-y_hat)"
   ]
  },
  {
   "cell_type": "code",
   "execution_count": 7,
   "id": "7ca03955",
   "metadata": {},
   "outputs": [
    {
     "name": "stdout",
     "output_type": "stream",
     "text": [
      "[0.35667494393873245, 1.6094379124341005, 1.203972804325936, 0.5108256237659907, 0.5108256237659907, 0.2231435513142097, 0.10536051565782628, 1.6094379124341003]\n"
     ]
    }
   ],
   "source": [
    "prediction = [0.3, 0.8, 0.7, 0.4, 0.6, 0.8, 0.9, 0.2] \n",
    "label = [0, 0, 0, 0, 1, 1, 1, 1]\n",
    "\n",
    "loss = [binary_crossentropy(y, y_hat) for y, y_hat in zip(label, prediction)]\n",
    "print(loss)"
   ]
  },
  {
   "cell_type": "code",
   "execution_count": null,
   "id": "3ffabf0b",
   "metadata": {},
   "outputs": [],
   "source": []
  },
  {
   "cell_type": "code",
   "execution_count": 2,
   "id": "c1363798",
   "metadata": {},
   "outputs": [
    {
     "name": "stdout",
     "output_type": "stream",
     "text": [
      "[1.203972804325936, 0.2231435513142097, 0.35667494393873245, 0.2231435513142097, 0.2231435513142097, 0.2231435513142097, 0.10536051565782628, 0.10536051565782628, 0.2231435513142097, 0.35667494393873245]\n"
     ]
    }
   ],
   "source": [
    "prediction = [0.7, 0.8, 0.7, 0.8, 0.8, 0.8, 0.9, 0.9, 0.8, 0.7]\n",
    "label = [0, 1, 1, 1, 1, 1, 1, 1, 1, 1]\n",
    "\n",
    "loss = [binary_crossentropy(y, y_hat) for y, y_hat in zip(label, prediction)]\n",
    "print(loss)"
   ]
  },
  {
   "cell_type": "code",
   "execution_count": 3,
   "id": "24fee5a2",
   "metadata": {},
   "outputs": [
    {
     "data": {
      "text/plain": [
       "2.039788675764166"
      ]
     },
     "execution_count": 3,
     "metadata": {},
     "output_type": "execute_result"
    }
   ],
   "source": [
    "sum(loss[1:])"
   ]
  },
  {
   "cell_type": "code",
   "execution_count": null,
   "id": "949c7c42",
   "metadata": {},
   "outputs": [],
   "source": []
  },
  {
   "cell_type": "markdown",
   "id": "09918359",
   "metadata": {},
   "source": [
    "#### focal loss"
   ]
  },
  {
   "cell_type": "code",
   "execution_count": 18,
   "id": "d594def6",
   "metadata": {},
   "outputs": [
    {
     "data": {
      "text/plain": [
       "[<matplotlib.lines.Line2D at 0x23f5b39ec40>]"
      ]
     },
     "execution_count": 18,
     "metadata": {},
     "output_type": "execute_result"
    }
   ],
   "source": [
    "# (1-p)**gamma\n",
    "import matplotlib.pyplot as plt\n",
    "%matplotlib qt\n",
    "plt.rcParams[\"figure.autolayout\"] = True\n",
    "plt.rc('xtick', labelsize=14) \n",
    "plt.rc('ytick', labelsize=14)\n",
    "\n",
    "data = list(range(0, 101))\n",
    "data = [x/100 for x in data]\n",
    "\n",
    "f_data = [(1-x)**3 for x in data]\n",
    "plt.plot(data, f_data, 'c')"
   ]
  },
  {
   "cell_type": "code",
   "execution_count": 19,
   "id": "e24a2e83",
   "metadata": {},
   "outputs": [
    {
     "data": {
      "text/plain": [
       "[<matplotlib.lines.Line2D at 0x23f5b405f70>]"
      ]
     },
     "execution_count": 19,
     "metadata": {},
     "output_type": "execute_result"
    }
   ],
   "source": [
    "# p**gamma\n",
    "import matplotlib.pyplot as plt\n",
    "%matplotlib qt\n",
    "plt.rcParams[\"figure.autolayout\"] = True\n",
    "plt.rc('xtick', labelsize=14) \n",
    "plt.rc('ytick', labelsize=14)\n",
    "\n",
    "data = list(range(0, 101))\n",
    "data = [x/100 for x in data]\n",
    "\n",
    "f_data = [x**3 for x in data]\n",
    "plt.plot(data, f_data, 'c')"
   ]
  },
  {
   "cell_type": "code",
   "execution_count": null,
   "id": "c7f090e9",
   "metadata": {},
   "outputs": [],
   "source": []
  },
  {
   "cell_type": "code",
   "execution_count": null,
   "id": "35aca283",
   "metadata": {},
   "outputs": [],
   "source": []
  },
  {
   "cell_type": "code",
   "execution_count": 30,
   "id": "1e2b38df",
   "metadata": {},
   "outputs": [
    {
     "data": {
      "text/plain": [
       "<matplotlib.legend.Legend at 0x23f5c0b66a0>"
      ]
     },
     "execution_count": 30,
     "metadata": {},
     "output_type": "execute_result"
    }
   ],
   "source": [
    "# different gamma (y=1)\n",
    "import matplotlib.pyplot as plt\n",
    "import math\n",
    "\n",
    "%matplotlib qt\n",
    "plt.rcParams[\"figure.autolayout\"] = True\n",
    "plt.rc('xtick', labelsize=9) \n",
    "plt.rc('ytick', labelsize=9)\n",
    "\n",
    "def focal_loss_1(y_hat, gamma):\n",
    "    return -math.log(y_hat)*(1-y_hat)**gamma \n",
    "\n",
    "data = list(range(1, 101))\n",
    "data = [x/100 for x in data]\n",
    "\n",
    "f_data_0 = [focal_loss_1(x, 0) for x in data]\n",
    "f_data_1 = [focal_loss_1(x, 1) for x in data]\n",
    "f_data_2 = [focal_loss_1(x, 2) for x in data]\n",
    "f_data_3 = [focal_loss_1(x, 3) for x in data]\n",
    "f_data_4 = [focal_loss_1(x, 4) for x in data]\n",
    "\n",
    "plt.plot(data, f_data_0, 'r', label='gamma=0')\n",
    "plt.plot(data, f_data_1, 'g', label='gamma=1')\n",
    "plt.plot(data, f_data_2, 'b', label='gamma=2')\n",
    "plt.plot(data, f_data_3, 'c', label='gamma=3')\n",
    "plt.plot(data, f_data_4, 'k', label='gamma=4')\n",
    "plt.legend()"
   ]
  },
  {
   "cell_type": "code",
   "execution_count": null,
   "id": "c7dbc3e2",
   "metadata": {},
   "outputs": [],
   "source": []
  },
  {
   "cell_type": "code",
   "execution_count": null,
   "id": "08588e07",
   "metadata": {},
   "outputs": [],
   "source": []
  },
  {
   "cell_type": "code",
   "execution_count": 31,
   "id": "819071e1",
   "metadata": {},
   "outputs": [
    {
     "data": {
      "text/plain": [
       "<matplotlib.legend.Legend at 0x23f5c1368e0>"
      ]
     },
     "execution_count": 31,
     "metadata": {},
     "output_type": "execute_result"
    }
   ],
   "source": [
    "# different gamma (y=0)\n",
    "import matplotlib.pyplot as plt\n",
    "import math\n",
    "\n",
    "%matplotlib qt\n",
    "plt.rcParams[\"figure.autolayout\"] = True\n",
    "plt.rc('xtick', labelsize=9) \n",
    "plt.rc('ytick', labelsize=9)\n",
    "\n",
    "def focal_loss_2(y_hat, gamma):\n",
    "    return -math.log(1-y_hat)*(y_hat**gamma)\n",
    "\n",
    "data = list(range(1, 100))\n",
    "data = [x/100 for x in data]\n",
    "\n",
    "f_data_0 = [focal_loss_2(x, 0) for x in data]\n",
    "f_data_1 = [focal_loss_2(x, 1) for x in data]\n",
    "f_data_2 = [focal_loss_2(x, 2) for x in data]\n",
    "f_data_3 = [focal_loss_2(x, 3) for x in data]\n",
    "f_data_4 = [focal_loss_2(x, 4) for x in data]\n",
    "\n",
    "plt.plot(data, f_data_0, 'r', label='gamma=0')\n",
    "plt.plot(data, f_data_1, 'g', label='gamma=1')\n",
    "plt.plot(data, f_data_2, 'b', label='gamma=2')\n",
    "plt.plot(data, f_data_3, 'c', label='gamma=3')\n",
    "plt.plot(data, f_data_4, 'k', label='gamma=4')\n",
    "plt.legend()"
   ]
  },
  {
   "cell_type": "code",
   "execution_count": null,
   "id": "3066c521",
   "metadata": {},
   "outputs": [],
   "source": []
  },
  {
   "cell_type": "code",
   "execution_count": null,
   "id": "57b1d0c9",
   "metadata": {},
   "outputs": [],
   "source": []
  },
  {
   "cell_type": "code",
   "execution_count": 33,
   "id": "10d49541",
   "metadata": {},
   "outputs": [],
   "source": [
    "def focal_loss(y, y_hat, gamma):\n",
    "    part1 = -y*math.log(y_hat)*(1-y_hat)**gamma \n",
    "    part2 = -(1-y)*math.log(1-y_hat)*(y_hat**gamma)\n",
    "    return part1 + part2"
   ]
  },
  {
   "cell_type": "code",
   "execution_count": 37,
   "id": "fb325d88",
   "metadata": {},
   "outputs": [
    {
     "name": "stdout",
     "output_type": "stream",
     "text": [
      "[1.203972804325936, 0.2231435513142097, 0.35667494393873245, 0.2231435513142097, 0.2231435513142097, 0.2231435513142097, 0.10536051565782628, 0.10536051565782628, 0.2231435513142097, 0.35667494393873245]\n"
     ]
    }
   ],
   "source": [
    "prediction = [0.7, 0.8, 0.7, 0.8, 0.8, 0.8, 0.9, 0.9, 0.8, 0.7]\n",
    "label = [0, 1, 1, 1, 1, 1, 1, 1, 1, 1]\n",
    "\n",
    "loss = [focal_loss(y, y_hat, 0) for y, y_hat in zip(label, prediction)]\n",
    "print(loss)"
   ]
  },
  {
   "cell_type": "code",
   "execution_count": 38,
   "id": "5c60930c",
   "metadata": {},
   "outputs": [
    {
     "name": "stdout",
     "output_type": "stream",
     "text": [
      "2.039788675764166\n"
     ]
    }
   ],
   "source": [
    "print(sum(loss[1:]))"
   ]
  },
  {
   "cell_type": "code",
   "execution_count": null,
   "id": "427340f7",
   "metadata": {},
   "outputs": [],
   "source": []
  },
  {
   "cell_type": "code",
   "execution_count": 35,
   "id": "3f9b16af",
   "metadata": {},
   "outputs": [
    {
     "name": "stdout",
     "output_type": "stream",
     "text": [
      "[0.8427809630281551, 0.04462871026284193, 0.10700248318161976, 0.04462871026284193, 0.04462871026284193, 0.04462871026284193, 0.010536051565782625, 0.010536051565782625, 0.04462871026284193, 0.10700248318161976]\n"
     ]
    }
   ],
   "source": [
    "prediction = [0.7, 0.8, 0.7, 0.8, 0.8, 0.8, 0.9, 0.9, 0.8, 0.7]\n",
    "label = [0, 1, 1, 1, 1, 1, 1, 1, 1, 1]\n",
    "\n",
    "loss = [focal_loss(y, y_hat, 1) for y, y_hat in zip(label, prediction)]\n",
    "print(loss)"
   ]
  },
  {
   "cell_type": "code",
   "execution_count": 36,
   "id": "d2dfa381",
   "metadata": {},
   "outputs": [
    {
     "name": "stdout",
     "output_type": "stream",
     "text": [
      "0.45822062080901443\n"
     ]
    }
   ],
   "source": [
    "print(sum(loss[1:]))"
   ]
  },
  {
   "cell_type": "code",
   "execution_count": null,
   "id": "7ba70cad",
   "metadata": {},
   "outputs": [],
   "source": []
  },
  {
   "cell_type": "code",
   "execution_count": 39,
   "id": "fd3994e9",
   "metadata": {},
   "outputs": [
    {
     "name": "stdout",
     "output_type": "stream",
     "text": [
      "[0.5899466741197085, 0.008925742052568384, 0.03210074495448593, 0.008925742052568384, 0.008925742052568384, 0.008925742052568384, 0.0010536051565782623, 0.0010536051565782623, 0.008925742052568384, 0.03210074495448593]\n"
     ]
    }
   ],
   "source": [
    "prediction = [0.7, 0.8, 0.7, 0.8, 0.8, 0.8, 0.9, 0.9, 0.8, 0.7]\n",
    "label = [0, 1, 1, 1, 1, 1, 1, 1, 1, 1]\n",
    "\n",
    "loss = [focal_loss(y, y_hat, 2) for y, y_hat in zip(label, prediction)]\n",
    "print(loss)"
   ]
  },
  {
   "cell_type": "code",
   "execution_count": 40,
   "id": "ab34dcc9",
   "metadata": {},
   "outputs": [
    {
     "name": "stdout",
     "output_type": "stream",
     "text": [
      "0.1109374104849703\n"
     ]
    }
   ],
   "source": [
    "print(sum(loss[1:]))"
   ]
  },
  {
   "cell_type": "code",
   "execution_count": null,
   "id": "e7e8f5d8",
   "metadata": {},
   "outputs": [],
   "source": []
  },
  {
   "cell_type": "code",
   "execution_count": 41,
   "id": "f8394581",
   "metadata": {},
   "outputs": [
    {
     "name": "stdout",
     "output_type": "stream",
     "text": [
      "[0.41296267188379593, 0.0017851484105136765, 0.009630223486345782, 0.0017851484105136765, 0.0017851484105136765, 0.0017851484105136765, 0.00010536051565782622, 0.00010536051565782622, 0.0017851484105136765, 0.009630223486345782]\n"
     ]
    }
   ],
   "source": [
    "prediction = [0.7, 0.8, 0.7, 0.8, 0.8, 0.8, 0.9, 0.9, 0.8, 0.7]\n",
    "label = [0, 1, 1, 1, 1, 1, 1, 1, 1, 1]\n",
    "\n",
    "loss = [focal_loss(y, y_hat, 3) for y, y_hat in zip(label, prediction)]\n",
    "print(loss)"
   ]
  },
  {
   "cell_type": "code",
   "execution_count": 42,
   "id": "df3f3734",
   "metadata": {},
   "outputs": [
    {
     "name": "stdout",
     "output_type": "stream",
     "text": [
      "0.028396910056575603\n"
     ]
    }
   ],
   "source": [
    "print(sum(loss[1:]))"
   ]
  },
  {
   "cell_type": "code",
   "execution_count": null,
   "id": "537e0eba",
   "metadata": {},
   "outputs": [],
   "source": []
  },
  {
   "cell_type": "code",
   "execution_count": 43,
   "id": "2d7c66fb",
   "metadata": {},
   "outputs": [
    {
     "name": "stdout",
     "output_type": "stream",
     "text": [
      "[0.28907387031865717, 0.0003570296821027352, 0.0028890670459037343, 0.0003570296821027352, 0.0003570296821027352, 0.0003570296821027352, 1.0536051565782618e-05, 1.0536051565782618e-05, 0.0003570296821027352, 0.0028890670459037343]\n"
     ]
    }
   ],
   "source": [
    "prediction = [0.7, 0.8, 0.7, 0.8, 0.8, 0.8, 0.9, 0.9, 0.8, 0.7]\n",
    "label = [0, 1, 1, 1, 1, 1, 1, 1, 1, 1]\n",
    "\n",
    "loss = [focal_loss(y, y_hat, 4) for y, y_hat in zip(label, prediction)]\n",
    "print(loss)"
   ]
  },
  {
   "cell_type": "code",
   "execution_count": 44,
   "id": "fa05becc",
   "metadata": {},
   "outputs": [
    {
     "name": "stdout",
     "output_type": "stream",
     "text": [
      "0.00758435460545271\n"
     ]
    }
   ],
   "source": [
    "print(sum(loss[1:]))"
   ]
  },
  {
   "cell_type": "code",
   "execution_count": null,
   "id": "ddf10da6",
   "metadata": {},
   "outputs": [],
   "source": []
  }
 ],
 "metadata": {
  "kernelspec": {
   "display_name": "Python 3 (ipykernel)",
   "language": "python",
   "name": "python3"
  },
  "language_info": {
   "codemirror_mode": {
    "name": "ipython",
    "version": 3
   },
   "file_extension": ".py",
   "mimetype": "text/x-python",
   "name": "python",
   "nbconvert_exporter": "python",
   "pygments_lexer": "ipython3",
   "version": "3.9.13"
  }
 },
 "nbformat": 4,
 "nbformat_minor": 5
}
