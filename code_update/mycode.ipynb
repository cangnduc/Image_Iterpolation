{
 "cells": [
  {
   "cell_type": "code",
   "execution_count": 1,
   "metadata": {},
   "outputs": [],
   "source": [
    "import numpy as np\n",
    "import matplotlib.pyplot as plt\n",
    "import cv2\n"
   ]
  },
  {
   "cell_type": "code",
   "execution_count": 9,
   "metadata": {},
   "outputs": [
    {
     "ename": "",
     "evalue": "",
     "output_type": "error",
     "traceback": [
      "\u001b[1;31mThe Kernel crashed while executing code in the the current cell or a previous cell. Please review the code in the cell(s) to identify a possible cause of the failure. Click <a href='https://aka.ms/vscodeJupyterKernelCrash'>here</a> for more info. View Jupyter <a href='command:jupyter.viewOutput'>log</a> for further details."
     ]
    }
   ],
   "source": [
    "img = cv2.imread('nature.jpg')\n",
    "#show image using cv2\n",
    "cv2.imshow('image',img)\n",
    "#imgplot = plt.imshow(img, cmap='gray', interpolation='bicubic')\n",
    "#plt.show()\n",
    "cv2.waitKey()\n",
    "cv2.destroyAllWindows()"
   ]
  },
  {
   "cell_type": "code",
   "execution_count": 8,
   "metadata": {},
   "outputs": [
    {
     "data": {
      "text/plain": [
       "True"
      ]
     },
     "execution_count": 8,
     "metadata": {},
     "output_type": "execute_result"
    }
   ],
   "source": [
    "#create a iamge\n",
    "width = 600\n",
    "height = 250\n",
    "img = np.ndarray(shape=(width, height), dtype=np.uint8)\n",
    "img.fill(135)\n",
    "cv2.imwrite('myimage.png', img)"
   ]
  },
  {
   "cell_type": "code",
   "execution_count": 2,
   "metadata": {},
   "outputs": [
    {
     "data": {
      "text/plain": [
       "(500, 1200)"
      ]
     },
     "execution_count": 2,
     "metadata": {},
     "output_type": "execute_result"
    }
   ],
   "source": [
    "baseimg = cv2.imread('nature.jpg')\n",
    "#convert base image to gray scale\n",
    "grayimg = cv2.cvtColor(baseimg, cv2.COLOR_BGR2GRAY)\n",
    "grayimg.shape\n"
   ]
  },
  {
   "cell_type": "code",
   "execution_count": 3,
   "metadata": {},
   "outputs": [],
   "source": [
    "def show_image(img):\n",
    "    cv2.imshow('image',img)\n",
    "    cv2.waitKey()\n",
    "    cv2.destroyAllWindows()"
   ]
  },
  {
   "cell_type": "code",
   "execution_count": 50,
   "metadata": {},
   "outputs": [],
   "source": [
    "#copy image using forloop\n",
    "height, width = 250 , 400\n",
    "#newimg = nd.array(shape=(height, width))\n",
    "#create an empty np array shape of width and height\n",
    "newimg = np.ndarray(shape=(height, width), dtype=np.uint8)\n",
    "for i in range(height):\n",
    "    for j in range(width):  \n",
    "        newimg[i][j] = grayimg[(i+(len(grayimg)//2)) -height//2][((j+len(grayimg[0])//2) -width//2)]\n",
    "\n",
    "newimg.shape\n",
    "show_image(newimg)"
   ]
  },
  {
   "cell_type": "code",
   "execution_count": 51,
   "metadata": {},
   "outputs": [],
   "source": [
    "#reverse image color\n",
    "\n",
    "for i in range(len(newimg)):\n",
    "    for j in range(len(newimg[0])):\n",
    "        newimg[i][j] = 255 - newimg[i][j]\n",
    "\n",
    "show_image(newimg)"
   ]
  },
  {
   "cell_type": "code",
   "execution_count": 4,
   "metadata": {},
   "outputs": [],
   "source": [
    "def linear_interpolation(p1, p2, x):\n",
    "    x1, y1 = p1\n",
    "    x2, y2 = p2\n",
    "    if x1 != x2:\n",
    "        y = ((x2-x)/(x2-x1))*y1 + ((x-x1)/(x2-x1))*y2\n",
    "    else:\n",
    "        y = y1\n",
    "    return y"
   ]
  },
  {
   "cell_type": "code",
   "execution_count": 5,
   "metadata": {},
   "outputs": [],
   "source": [
    "def enlarge_iamge(img):\n",
    "    newimg = np.ndarray(shape=(len(img)*2, len(img[0])*2), dtype=np.uint8)\n",
    "    for i in range(len(img)):\n",
    "        for j in range(len(img[0])):\n",
    "            newimg[i*2][j*2]=img[i][j]\n",
    "    return newimg        \n",
    "    \n"
   ]
  },
  {
   "cell_type": "code",
   "execution_count": 22,
   "metadata": {},
   "outputs": [],
   "source": [
    "enlargeimg = enlarge_iamge(grayimg)\n",
    "show_image(enlargeimg)"
   ]
  },
  {
   "cell_type": "code",
   "execution_count": 24,
   "metadata": {},
   "outputs": [],
   "source": [
    "def nearest_neighbor_interpolation(img):\n",
    "    for i in range(len(img)):\n",
    "        for j in range(len(img[0])):\n",
    "            if img[i][j] == 0 and i != 0 and i != len(img)-1 and j != 0 and j != len(img[0])-1:\n",
    "                img[i][j] = (img[i][j-1] + img[i][j+1] +img[i-1][j] + img[i+1][j] ) // 4\n",
    "    return img\n",
    "\n"
   ]
  },
  {
   "cell_type": "code",
   "execution_count": 25,
   "metadata": {},
   "outputs": [
    {
     "name": "stderr",
     "output_type": "stream",
     "text": [
      "C:\\Users\\cang_\\AppData\\Local\\Temp\\ipykernel_19232\\3604974201.py:5: RuntimeWarning: overflow encountered in scalar add\n",
      "  img[i][j] = (img[i][j-1] + img[i][j+1] +img[i-1][j] + img[i+1][j] ) // 4\n"
     ]
    }
   ],
   "source": [
    "nearImage = nearest_neighbor_interpolation(enlargeimg)\n",
    "show_image(nearImage)"
   ]
  },
  {
   "cell_type": "code",
   "execution_count": 26,
   "metadata": {},
   "outputs": [
    {
     "data": {
      "text/plain": [
       "array([[  2,   1,   1,  63,  31,   6,   1,  63,  15,   1],\n",
       "       [  1, 128,   0, 130,  10, 135,   4, 136,   7, 134],\n",
       "       [  0,  60,  15,   3,   3,   5,   2,   7,   3,   6],\n",
       "       [ 55, 112,  63, 125,   3, 141,   8, 147,  10, 146],\n",
       "       [ 29,  62,  31,   4,   1,   3,   2,   4,   3,   1],\n",
       "       [ 61, 109,   0, 119,  61, 127,  63, 123,  59, 113],\n",
       "       [ 15,  60,  15,  62,  30,   3,  16,  59,  29,  56],\n",
       "       [ 62, 116,  61, 116,   0, 112,  56,  98,  52,  83],\n",
       "       [ 30,   1,  15,  60,  15,  58,  28,  56,  27,  51],\n",
       "       [  3, 114,  59, 109,  57, 106,  58, 100,  55,  94]], dtype=uint8)"
      ]
     },
     "execution_count": 26,
     "metadata": {},
     "output_type": "execute_result"
    }
   ],
   "source": [
    "nearImage[5:15, 5:15]"
   ]
  },
  {
   "cell_type": "code",
   "execution_count": 27,
   "metadata": {},
   "outputs": [
    {
     "data": {
      "text/plain": [
       "array([[  2,   1,   1,  63,  31,   6,   1,  63,  15,   1],\n",
       "       [  1, 128,   0, 130,  10, 135,   4, 136,   7, 134],\n",
       "       [  0,  60,  15,   3,   3,   5,   2,   7,   3,   6],\n",
       "       [ 55, 112,  63, 125,   3, 141,   8, 147,  10, 146],\n",
       "       [ 29,  62,  31,   4,   1,   3,   2,   4,   3,   1],\n",
       "       [ 61, 109,   0, 119,  61, 127,  63, 123,  59, 113],\n",
       "       [ 15,  60,  15,  62,  30,   3,  16,  59,  29,  56],\n",
       "       [ 62, 116,  61, 116,   0, 112,  56,  98,  52,  83],\n",
       "       [ 30,   1,  15,  60,  15,  58,  28,  56,  27,  51],\n",
       "       [  3, 114,  59, 109,  57, 106,  58, 100,  55,  94]], dtype=uint8)"
      ]
     },
     "execution_count": 27,
     "metadata": {},
     "output_type": "execute_result"
    }
   ],
   "source": [
    "enlargeimg[5:15, 5:15]"
   ]
  },
  {
   "cell_type": "code",
   "execution_count": null,
   "metadata": {},
   "outputs": [],
   "source": []
  }
 ],
 "metadata": {
  "kernelspec": {
   "display_name": "BaseLearning",
   "language": "python",
   "name": "python3"
  },
  "language_info": {
   "codemirror_mode": {
    "name": "ipython",
    "version": 3
   },
   "file_extension": ".py",
   "mimetype": "text/x-python",
   "name": "python",
   "nbconvert_exporter": "python",
   "pygments_lexer": "ipython3",
   "version": "3.10.11"
  },
  "orig_nbformat": 4
 },
 "nbformat": 4,
 "nbformat_minor": 2
}
