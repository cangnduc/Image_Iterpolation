{
 "cells": [
  {
   "cell_type": "markdown",
   "id": "54b01ba9",
   "metadata": {},
   "source": [
    "### way 1"
   ]
  },
  {
   "cell_type": "code",
   "execution_count": 3,
   "id": "effa7e8d",
   "metadata": {},
   "outputs": [
    {
     "name": "stdout",
     "output_type": "stream",
     "text": [
      "9\n",
      "5.0\n",
      "3.4\n",
      "3.023529411764706\n",
      "3.00009155413138\n",
      "3.000000001396984\n",
      "3.0\n",
      "3.0\n"
     ]
    }
   ],
   "source": [
    "def func(x, N):\n",
    "    return x**2 - N\n",
    "\n",
    "def derivative(x):     \n",
    "    return 2*x\n",
    "\n",
    "def compute_square_root_w1(N, num_loops):    \n",
    "    x_n = N\n",
    "    print(x_n)\n",
    "    \n",
    "    for i in range(num_loops):\n",
    "        x_np1 = x_n - func(x_n, N)/derivative(x_n)\n",
    "        x_n = x_np1\n",
    "        print(x_np1)\n",
    "        \n",
    "    return x_np1\n",
    "\n",
    "print(compute_square_root_w1(N=9, num_loops=6))"
   ]
  },
  {
   "cell_type": "code",
   "execution_count": null,
   "id": "00e8ec34",
   "metadata": {},
   "outputs": [],
   "source": []
  },
  {
   "cell_type": "markdown",
   "id": "0962b1be",
   "metadata": {},
   "source": [
    "### way 2"
   ]
  },
  {
   "cell_type": "code",
   "execution_count": 4,
   "id": "d737ac05",
   "metadata": {},
   "outputs": [
    {
     "name": "stdout",
     "output_type": "stream",
     "text": [
      "9\n",
      "5.0\n",
      "3.4\n",
      "3.023529411764706\n",
      "3.00009155413138\n",
      "3.000000001396984\n",
      "3.0\n",
      "3.0\n"
     ]
    }
   ],
   "source": [
    "def compute_square_root_w2(N, num_loops):    \n",
    "    x_n = N\n",
    "    print(x_n)\n",
    "    \n",
    "    for i in range(num_loops):\n",
    "        x_np1 = (x_n + N/x_n) / 2.0\n",
    "        x_n = x_np1\n",
    "        print(x_np1)\n",
    "        \n",
    "    return x_np1\n",
    "\n",
    "print(compute_square_root_w2(N=9, num_loops=6))"
   ]
  },
  {
   "cell_type": "code",
   "execution_count": null,
   "id": "54ef2a7f",
   "metadata": {},
   "outputs": [],
   "source": []
  },
  {
   "cell_type": "code",
   "execution_count": null,
   "id": "a2e2773f",
   "metadata": {},
   "outputs": [],
   "source": []
  },
  {
   "cell_type": "markdown",
   "id": "6e270350",
   "metadata": {},
   "source": [
    "#### plot\n",
    "\n",
    "$f(x) = x^2 - 9$"
   ]
  },
  {
   "cell_type": "code",
   "execution_count": 25,
   "id": "3e5e96af",
   "metadata": {},
   "outputs": [],
   "source": [
    "def func(x):\n",
    "    return x**2 - 9\n",
    "\n",
    "def d_func(x):\n",
    "    return 2*x\n",
    "\n",
    "def tangent_line(m, point, x):\n",
    "    x1, y1 = point\n",
    "    \n",
    "    y = m*(x - x1) + y1\n",
    "    return y    "
   ]
  },
  {
   "cell_type": "code",
   "execution_count": 47,
   "id": "a00fae13",
   "metadata": {},
   "outputs": [],
   "source": [
    "import matplotlib.pyplot as plt\n",
    "import numpy as np\n",
    "%matplotlib qt\n",
    "\n",
    "plt.rcParams[\"figure.figsize\"] = [7.0, 5.0]\n",
    "plt.rcParams[\"figure.autolayout\"] = True\n",
    "\n",
    "data_x = np.arange(-5, 5, 0.1).tolist()\n",
    "data_y = [func(x) for x in data_x]\n",
    "\n",
    "plt.plot([-6, 6], [0, 0], 'k:')\n",
    "plt.plot([0, 0], [-14, 18], 'k:')\n",
    "\n",
    "plt.plot(data_x, data_y, 'g')\n",
    "\n",
    "x1 = 1.0\n",
    "y1 = func(x1)\n",
    "m = d_func(x1)\n",
    "tangent_x = np.arange(-2, 7, 0.1).tolist()\n",
    "tangent_y = [tangent_line(m, [x1, y1], x) for x in tangent_x]\n",
    "plt.plot(tangent_x, tangent_y, 'r')\n",
    "      \n",
    "plt.xlim([-8, 8])\n",
    "plt.ylim([-12, 20])\n",
    "plt.show()"
   ]
  },
  {
   "cell_type": "code",
   "execution_count": null,
   "id": "50956bb0",
   "metadata": {},
   "outputs": [],
   "source": []
  },
  {
   "cell_type": "code",
   "execution_count": null,
   "id": "9b334a2b",
   "metadata": {},
   "outputs": [],
   "source": [
    "# video\n",
    "\n"
   ]
  },
  {
   "cell_type": "code",
   "execution_count": null,
   "id": "9829348c",
   "metadata": {},
   "outputs": [],
   "source": []
  },
  {
   "cell_type": "code",
   "execution_count": null,
   "id": "48506716",
   "metadata": {},
   "outputs": [],
   "source": []
  }
 ],
 "metadata": {
  "kernelspec": {
   "display_name": "Python 3 (ipykernel)",
   "language": "python",
   "name": "python3"
  },
  "language_info": {
   "codemirror_mode": {
    "name": "ipython",
    "version": 3
   },
   "file_extension": ".py",
   "mimetype": "text/x-python",
   "name": "python",
   "nbconvert_exporter": "python",
   "pygments_lexer": "ipython3",
   "version": "3.9.13"
  }
 },
 "nbformat": 4,
 "nbformat_minor": 5
}
