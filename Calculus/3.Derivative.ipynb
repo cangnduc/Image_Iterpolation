{
 "cells": [
  {
   "cell_type": "markdown",
   "id": "07cd06a3",
   "metadata": {},
   "source": [
    "Let's define a very simple function\n",
    "\n",
    "$f(x) = x^{2} + 2x$\n",
    "\n",
    "\n",
    "Derivative of func:\n",
    "\n",
    "$f'(x)  = 2x + 2$"
   ]
  },
  {
   "cell_type": "code",
   "execution_count": 1,
   "id": "2c818e13",
   "metadata": {},
   "outputs": [],
   "source": [
    "# python code\n",
    "\n",
    "def func(x):\n",
    "    return x**2 + 2*x\n",
    "\n",
    "def func_derivative(x):\n",
    "    return 2*x + 2"
   ]
  },
  {
   "cell_type": "code",
   "execution_count": 2,
   "id": "547237b9",
   "metadata": {},
   "outputs": [
    {
     "name": "stdout",
     "output_type": "stream",
     "text": [
      "f'(x=2) is 6.0\n"
     ]
    }
   ],
   "source": [
    "d_value = func_derivative(2.0)\n",
    "print('f\\'(x=2) is', d_value)"
   ]
  },
  {
   "cell_type": "code",
   "execution_count": null,
   "id": "e52d22fe",
   "metadata": {},
   "outputs": [],
   "source": []
  },
  {
   "cell_type": "code",
   "execution_count": 3,
   "id": "21674eb3",
   "metadata": {},
   "outputs": [
    {
     "data": {
      "image/png": "[encoded data removed]",
      "text/plain": [
       "<Figure size 640x480 with 1 Axes>"
      ]
     },
     "metadata": {},
     "output_type": "display_data"
    }
   ],
   "source": [
    "import matplotlib.pyplot as plt\n",
    "import numpy as np\n",
    "\n",
    "x_data = np.arange(-25, 23, 0.1).tolist()\n",
    "y_data = [func(x) for x in x_data]\n",
    "dy_data = [func_derivative(x) for x in x_data]\n",
    "\n",
    "plt.plot(x_data, y_data)\n",
    "plt.plot(x_data, dy_data)\n",
    "plt.show()"
   ]
  },
  {
   "cell_type": "code",
   "execution_count": null,
   "id": "90807372",
   "metadata": {},
   "outputs": [],
   "source": []
  },
  {
   "cell_type": "code",
   "execution_count": null,
   "id": "349a1dc0",
   "metadata": {},
   "outputs": [],
   "source": []
  },
  {
   "cell_type": "code",
   "execution_count": null,
   "id": "d5cfcc32",
   "metadata": {},
   "outputs": [],
   "source": []
  },
  {
   "cell_type": "markdown",
   "id": "6e66d3c4",
   "metadata": {},
   "source": [
    "Cho hàm số f\n",
    "\n",
    "$f(x) = x^{2} + 2x$\n",
    "\n",
    "Công thức tính đạo hàm cho f\n",
    "\n",
    "$f'(x)  = 2x + 2$\n",
    "\n",
    "Tính đạo hàm một bên\n",
    "\n",
    "$$f'(x) = \\lim_{\\varepsilon \\rightarrow 0}\\frac{f(x+\\varepsilon) - f(x)}{\\varepsilon}$$\n",
    "\n",
    "Tính đạo hàm trung tâm\n",
    "\n",
    "$$f'(x) = \\lim_{\\varepsilon \\rightarrow 0}\\frac{f(x+\\varepsilon/2) - f(x-\\varepsilon/2)}{\\varepsilon}$$"
   ]
  },
  {
   "cell_type": "code",
   "execution_count": 13,
   "id": "cf3310ad",
   "metadata": {},
   "outputs": [],
   "source": []
  },
  {
   "cell_type": "code",
   "execution_count": 16,
   "id": "5981419c",
   "metadata": {},
   "outputs": [
    {
     "name": "stdout",
     "output_type": "stream",
     "text": [
      "(e=1.0e2 and x=2) : 6.0\n",
      "(e=1.0e1 and x=2) : 6.0\n",
      "(e=1.0e0 and x=2) : 6.0\n",
      "(e=1.0e-1 and x=2) : 5.999999999999988\n",
      "(e=1.0e-2 and x=2) : 5.999999999999783\n",
      "(e=1.0e-3 and x=2) : 6.0000000000011156\n",
      "(e=1.0e-4 and x=2) : 6.00000000000378\n"
     ]
    }
   ],
   "source": [
    "# đạo hàm trung tâm\n",
    "def gradient(f, x, epsilon):     \n",
    "    return (f(x + epsilon/2) - f(x - epsilon/2)) / epsilon\n",
    "\n",
    "def func(x):\n",
    "    return x**2 + 2*x\n",
    "\n",
    "print(f'(e=1.0e2 and x=2) : {gradient(f=func, x=2.0, epsilon=1.0e2)}')\n",
    "print(f'(e=1.0e1 and x=2) : {gradient(f=func, x=2.0, epsilon=1.0e1)}')\n",
    "print(f'(e=1.0e0 and x=2) : {gradient(f=func, x=2.0, epsilon=1.0e0)}')\n",
    "print(f'(e=1.0e-1 and x=2) : {gradient(f=func, x=2.0, epsilon=1.0e-1)}')\n",
    "print(f'(e=1.0e-2 and x=2) : {gradient(f=func, x=2.0, epsilon=1.0e-2)}')\n",
    "print(f'(e=1.0e-3 and x=2) : {gradient(f=func, x=2.0, epsilon=1.0e-3)}')\n",
    "print(f'(e=1.0e-4 and x=2) : {gradient(f=func, x=2.0, epsilon=1.0e-4)}')"
   ]
  },
  {
   "cell_type": "code",
   "execution_count": null,
   "id": "f6dffe5b",
   "metadata": {},
   "outputs": [],
   "source": []
  },
  {
   "cell_type": "code",
   "execution_count": 18,
   "id": "34529a80",
   "metadata": {},
   "outputs": [
    {
     "name": "stdout",
     "output_type": "stream",
     "text": [
      "(e=1.0e2 and x=2) : 106.0\n",
      "(e=1.0e1 and x=2) : 16.0\n",
      "(e=1.0e0 and x=2) : 7.0\n",
      "(e=1.0e-1 and x=2) : 6.099999999999994\n",
      "(e=1.0e-2 and x=2) : 6.009999999999849\n",
      "(e=1.0e-3 and x=2) : 6.000999999999479\n",
      "(e=1.0e-4 and x=2) : 6.000100000012054\n"
     ]
    }
   ],
   "source": [
    "# đạo hàm một bên\n",
    "def gradient(f, x, epsilon):     \n",
    "    return (f(x + epsilon) - f(x)) / epsilon\n",
    "\n",
    "def func(x):\n",
    "    return x**2 + 2*x\n",
    "\n",
    "print(f'(e=1.0e2 and x=2) : {gradient(f=func, x=2.0, epsilon=1.0e2)}')\n",
    "print(f'(e=1.0e1 and x=2) : {gradient(f=func, x=2.0, epsilon=1.0e1)}')\n",
    "print(f'(e=1.0e0 and x=2) : {gradient(f=func, x=2.0, epsilon=1.0e0)}')\n",
    "print(f'(e=1.0e-1 and x=2) : {gradient(f=func, x=2.0, epsilon=1.0e-1)}')\n",
    "print(f'(e=1.0e-2 and x=2) : {gradient(f=func, x=2.0, epsilon=1.0e-2)}')\n",
    "print(f'(e=1.0e-3 and x=2) : {gradient(f=func, x=2.0, epsilon=1.0e-3)}')\n",
    "print(f'(e=1.0e-4 and x=2) : {gradient(f=func, x=2.0, epsilon=1.0e-4)}')"
   ]
  },
  {
   "cell_type": "code",
   "execution_count": null,
   "id": "78523e73",
   "metadata": {},
   "outputs": [],
   "source": []
  },
  {
   "cell_type": "markdown",
   "id": "84e242d9",
   "metadata": {},
   "source": [
    "$f(x) = x^{3}$"
   ]
  },
  {
   "cell_type": "code",
   "execution_count": 5,
   "id": "a58c4a0d",
   "metadata": {},
   "outputs": [],
   "source": [
    "# python code\n",
    "\n",
    "def func(x):\n",
    "    return x**3\n",
    "\n",
    "def func_derivative(x):\n",
    "    return 3*x**2"
   ]
  },
  {
   "cell_type": "code",
   "execution_count": 23,
   "id": "97d608e5",
   "metadata": {},
   "outputs": [
    {
     "name": "stdout",
     "output_type": "stream",
     "text": [
      "f'(x=2) is 12.0\n"
     ]
    }
   ],
   "source": [
    "d_value = func_derivative(2.0)\n",
    "print('f\\'(x=2) is', d_value)"
   ]
  },
  {
   "cell_type": "code",
   "execution_count": 6,
   "id": "cf7d414f",
   "metadata": {},
   "outputs": [
    {
     "data": {
      "text/plain": [
       "[<matplotlib.lines.Line2D at 0x1c45db2c7f0>]"
      ]
     },
     "execution_count": 6,
     "metadata": {},
     "output_type": "execute_result"
    },
    {
     "data": {
      "image/png": "[encoded data removed]",
      "text/plain": [
       "<Figure size 640x480 with 1 Axes>"
      ]
     },
     "metadata": {},
     "output_type": "display_data"
    }
   ],
   "source": [
    "import numpy as np\n",
    "import matplotlib.pyplot as plt\n",
    "\n",
    "x_data = np.arange(-25, 25, 0.1).tolist()\n",
    "y_data = [func(x) for x in x_data]\n",
    "dy_data = [func_derivative(x) for x in x_data]\n",
    "\n",
    "plt.plot(x_data, y_data)\n",
    "plt.plot(x_data, dy_data)"
   ]
  },
  {
   "cell_type": "code",
   "execution_count": null,
   "id": "463f329a",
   "metadata": {},
   "outputs": [],
   "source": []
  },
  {
   "cell_type": "code",
   "execution_count": 25,
   "id": "a1c17302",
   "metadata": {},
   "outputs": [
    {
     "name": "stdout",
     "output_type": "stream",
     "text": [
      "(e=1.0e2 and x=2) : 10612.0\n",
      "(e=1.0e1 and x=2) : 172.0\n",
      "(e=1.0e0 and x=2) : 19.0\n",
      "(e=1.0e-1 and x=2) : 12.61000000000001\n",
      "(e=1.0e-2 and x=2) : 12.060099999999707\n",
      "(e=1.0e-3 and x=2) : 12.006000999997823\n",
      "(e=1.0e-4 and x=2) : 12.000600010022566\n"
     ]
    }
   ],
   "source": [
    "# đạo hàm một bên\n",
    "def gradient(f, x, epsilon):     \n",
    "    return (f(x + epsilon) - f(x)) / epsilon\n",
    "\n",
    "def func(x):\n",
    "    return x**3\n",
    "\n",
    "print(f'(e=1.0e2 and x=2) : {gradient(f=func, x=2.0, epsilon=1.0e2)}')\n",
    "print(f'(e=1.0e1 and x=2) : {gradient(f=func, x=2.0, epsilon=1.0e1)}')\n",
    "print(f'(e=1.0e0 and x=2) : {gradient(f=func, x=2.0, epsilon=1.0e0)}')\n",
    "print(f'(e=1.0e-1 and x=2) : {gradient(f=func, x=2.0, epsilon=1.0e-1)}')\n",
    "print(f'(e=1.0e-2 and x=2) : {gradient(f=func, x=2.0, epsilon=1.0e-2)}')\n",
    "print(f'(e=1.0e-3 and x=2) : {gradient(f=func, x=2.0, epsilon=1.0e-3)}')\n",
    "print(f'(e=1.0e-4 and x=2) : {gradient(f=func, x=2.0, epsilon=1.0e-4)}')"
   ]
  },
  {
   "cell_type": "code",
   "execution_count": null,
   "id": "f9e40aa9",
   "metadata": {},
   "outputs": [],
   "source": []
  },
  {
   "cell_type": "code",
   "execution_count": 26,
   "id": "95867364",
   "metadata": {},
   "outputs": [
    {
     "name": "stdout",
     "output_type": "stream",
     "text": [
      "(e=1.0e2 and x=2) : 2512.0\n",
      "(e=1.0e1 and x=2) : 37.0\n",
      "(e=1.0e0 and x=2) : 12.25\n",
      "(e=1.0e-1 and x=2) : 12.002499999999978\n",
      "(e=1.0e-2 and x=2) : 12.000024999999681\n",
      "(e=1.0e-3 and x=2) : 12.000000250001364\n",
      "(e=1.0e-4 and x=2) : 12.000000002503342\n",
      "(e=1.0e-5 and x=2) : 11.999999999900977\n"
     ]
    }
   ],
   "source": [
    "# đạo hàm trung tâm\n",
    "def gradient(f, x, epsilon):     \n",
    "    return (f(x + epsilon/2) - f(x - epsilon/2)) / epsilon\n",
    "\n",
    "def func(x):\n",
    "    return x**3\n",
    "\n",
    "print(f'(e=1.0e2 and x=2) : {gradient(f=func, x=2.0, epsilon=1.0e2)}')\n",
    "print(f'(e=1.0e1 and x=2) : {gradient(f=func, x=2.0, epsilon=1.0e1)}')\n",
    "print(f'(e=1.0e0 and x=2) : {gradient(f=func, x=2.0, epsilon=1.0e0)}')\n",
    "print(f'(e=1.0e-1 and x=2) : {gradient(f=func, x=2.0, epsilon=1.0e-1)}')\n",
    "print(f'(e=1.0e-2 and x=2) : {gradient(f=func, x=2.0, epsilon=1.0e-2)}')\n",
    "print(f'(e=1.0e-3 and x=2) : {gradient(f=func, x=2.0, epsilon=1.0e-3)}')\n",
    "print(f'(e=1.0e-4 and x=2) : {gradient(f=func, x=2.0, epsilon=1.0e-4)}')\n",
    "print(f'(e=1.0e-5 and x=2) : {gradient(f=func, x=2.0, epsilon=1.0e-5)}')"
   ]
  },
  {
   "cell_type": "code",
   "execution_count": null,
   "id": "81cf1c4c",
   "metadata": {},
   "outputs": [],
   "source": []
  }
 ],
 "metadata": {
  "kernelspec": {
   "display_name": "Python 3 (ipykernel)",
   "language": "python",
   "name": "python3"
  },
  "language_info": {
   "codemirror_mode": {
    "name": "ipython",
    "version": 3
   },
   "file_extension": ".py",
   "mimetype": "text/x-python",
   "name": "python",
   "nbconvert_exporter": "python",
   "pygments_lexer": "ipython3",
   "version": "3.9.13"
  }
 },
 "nbformat": 4,
 "nbformat_minor": 5
}
