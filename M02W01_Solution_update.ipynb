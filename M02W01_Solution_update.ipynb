{
 "cells": [
  {
   "cell_type": "markdown",
   "id": "0a39da04",
   "metadata": {},
   "source": [
    "## Exercise - M02W01 - Interpolation"
   ]
  },
  {
   "cell_type": "markdown",
   "id": "bcb69a01",
   "metadata": {},
   "source": [
    "##### Exercise 1 (programming skills for 2D data)"
   ]
  },
  {
   "cell_type": "code",
   "execution_count": null,
   "id": "1ba19606",
   "metadata": {},
   "outputs": [],
   "source": [
    "'''\n",
    "Given a list of lists (2D data); n rows and m column\n",
    "\n",
    "Question: write a function to compute summations for each row\n",
    "\n",
    "Examples\n",
    "Input:\n",
    "data = [[1, 2, 3],\n",
    "        [4, 5, 6],\n",
    "        [7, 8, 9]]\n",
    "        \n",
    "Output:\n",
    "result = [6, 15, 24]\n",
    "\n",
    "----------------------------------\n",
    "Input:\n",
    "data = [[1, 2],\n",
    "        [3, 4],\n",
    "        [5, 6]]\n",
    "Output:\n",
    "[3, 7, 11]\n",
    "'''"
   ]
  },
  {
   "cell_type": "code",
   "execution_count": 1,
   "id": "b01d879b",
   "metadata": {},
   "outputs": [],
   "source": [
    "# implementation (way 1)\n",
    "def compute_sum_1(data):\n",
    "    height = len(data)\n",
    "    width = len(data[0])\n",
    "    \n",
    "    result = []\n",
    "    for vector in data:\n",
    "        result.append(sum(vector))\n",
    "        \n",
    "    return result"
   ]
  },
  {
   "cell_type": "code",
   "execution_count": 5,
   "id": "2cf5f1c3",
   "metadata": {},
   "outputs": [],
   "source": [
    "# implementation (way 1)\n",
    "def compute_sum_2(data):\n",
    "    height = len(data)\n",
    "    width = len(data[0])\n",
    "    \n",
    "    result = []\n",
    "    for vector in data:\n",
    "        sum_value = 0\n",
    "        for element in vector:\n",
    "            sum_value = sum_value + element\n",
    "        result.append(sum_value)\n",
    "        \n",
    "    return result\n",
    "\n",
    "# test case\n",
    "data = [[1, 2, 3],\n",
    "        [4, 5, 6],\n",
    "        [7, 8, 9]]\n",
    "assert compute_sum_2(data) == [6, 15, 24]\n",
    "\n",
    "data = [[1, 2],\n",
    "        [3, 4],\n",
    "        [5, 6]]\n",
    "assert compute_sum_2(data) == [3, 7, 11]"
   ]
  },
  {
   "cell_type": "code",
   "execution_count": 6,
   "id": "2925bf17",
   "metadata": {},
   "outputs": [
    {
     "name": "stdout",
     "output_type": "stream",
     "text": [
      "[6, 15, 24]\n"
     ]
    }
   ],
   "source": [
    "# test 1\n",
    "data = [[1, 2, 3],\n",
    "        [4, 5, 6],\n",
    "        [7, 8, 9]]\n",
    "print(compute_sum_2(data))"
   ]
  },
  {
   "cell_type": "code",
   "execution_count": 12,
   "id": "990e35b1",
   "metadata": {},
   "outputs": [
    {
     "name": "stdout",
     "output_type": "stream",
     "text": [
      "[3, 7, 11]\n"
     ]
    }
   ],
   "source": [
    "# test 2\n",
    "data = [[1, 2],\n",
    "        [3, 4],\n",
    "        [5, 6]]\n",
    "print(compute_sum_2(data))"
   ]
  },
  {
   "cell_type": "code",
   "execution_count": 7,
   "id": "5af01b40",
   "metadata": {},
   "outputs": [
    {
     "name": "stdout",
     "output_type": "stream",
     "text": [
      "[14, 4, 10]\n"
     ]
    }
   ],
   "source": [
    "# multiple choice\n",
    "data = [[6, 8],\n",
    "        [3, 1],\n",
    "        [7, 3]]\n",
    "print(compute_sum_2(data))"
   ]
  },
  {
   "cell_type": "code",
   "execution_count": null,
   "id": "ee2c498a",
   "metadata": {},
   "outputs": [],
   "source": []
  },
  {
   "cell_type": "markdown",
   "id": "1aad14df",
   "metadata": {},
   "source": [
    "#### Exercise 2 (programming skills for 2D data)"
   ]
  },
  {
   "cell_type": "code",
   "execution_count": null,
   "id": "02eeb1c1",
   "metadata": {},
   "outputs": [],
   "source": [
    "'''\n",
    "Given a list of lists (2D data); n rows and n column (#rows==#columns)\n",
    "\n",
    "Question: write a function to transpose the data (change rows to columns and vice verse)\n",
    "\n",
    "Examples\n",
    "Input:\n",
    "data = [[1, 2, 3],\n",
    "        [4, 5, 6],\n",
    "        [7, 8, 9]]\n",
    "        \n",
    "Output:\n",
    "result = [[1, 4, 7],\n",
    "          [2, 5, 8],\n",
    "          [3, 6, 9]]          \n",
    "----------------------------\n",
    "Input:\n",
    "data = [[1, 2],\n",
    "        [4, 5]]\n",
    "        \n",
    "Output:\n",
    "result = [[1, 4],\n",
    "          [2, 5]]\n",
    "'''"
   ]
  },
  {
   "cell_type": "code",
   "execution_count": 11,
   "id": "96d34bd8",
   "metadata": {},
   "outputs": [],
   "source": [
    "# implementation\n",
    "def transpose(data):\n",
    "    n = len(data)\n",
    "    \n",
    "    result = [[0]*n for _ in range(n)]\n",
    "    for i in range(n):\n",
    "        for j in range(n):\n",
    "            result[i][j] = data[j][i]\n",
    "        \n",
    "    return result\n",
    "\n",
    "# test case\n",
    "data = [[1, 2, 3],\n",
    "        [4, 5, 6],\n",
    "        [7, 8, 9]]\n",
    "assert transpose(data) == [[1, 4, 7], \n",
    "                           [2, 5, 8], \n",
    "                           [3, 6, 9]]\n",
    "\n",
    "data = [[1, 2],\n",
    "        [4, 5]]\n",
    "assert transpose(data) == [[1, 4], \n",
    "                           [2, 5]]"
   ]
  },
  {
   "cell_type": "code",
   "execution_count": 9,
   "id": "beace2fb",
   "metadata": {},
   "outputs": [
    {
     "name": "stdout",
     "output_type": "stream",
     "text": [
      "[[1, 4, 7], [2, 5, 8], [3, 6, 9]]\n"
     ]
    }
   ],
   "source": [
    "# test 1\n",
    "data = [[1, 2, 3],\n",
    "        [4, 5, 6],\n",
    "        [7, 8, 9]]\n",
    "print(transpose(data))"
   ]
  },
  {
   "cell_type": "code",
   "execution_count": 10,
   "id": "d20029b6",
   "metadata": {},
   "outputs": [
    {
     "name": "stdout",
     "output_type": "stream",
     "text": [
      "[[1, 4], [2, 5]]\n"
     ]
    }
   ],
   "source": [
    "# test 2\n",
    "data = [[1, 2],\n",
    "        [4, 5]]\n",
    "print(transpose(data))"
   ]
  },
  {
   "cell_type": "code",
   "execution_count": 12,
   "id": "0d74d06d",
   "metadata": {},
   "outputs": [
    {
     "name": "stdout",
     "output_type": "stream",
     "text": [
      "[[7, 3], [2, 5]]\n"
     ]
    }
   ],
   "source": [
    "# multiple choice\n",
    "data = [[7, 2],\n",
    "        [3, 5]]\n",
    "print(transpose(data))"
   ]
  },
  {
   "cell_type": "code",
   "execution_count": null,
   "id": "64eb7f51",
   "metadata": {},
   "outputs": [],
   "source": []
  },
  {
   "cell_type": "markdown",
   "id": "bd7100a4",
   "metadata": {},
   "source": [
    "#### Exercise 3 (nearest neighbor interpolation for 1D data)"
   ]
  },
  {
   "cell_type": "code",
   "execution_count": null,
   "id": "03d63567",
   "metadata": {},
   "outputs": [],
   "source": [
    "'''\n",
    "Given a list of numbers (length n) and a factor k\n",
    "\n",
    "Question: write a function to interpolate the list to a target (new list) \n",
    "with the length of n*k using nearest neighbor interpolation\n",
    "\n",
    "Examples\n",
    "Input:\n",
    "data = [1, 2, 3]\n",
    "k = 2\n",
    "\n",
    "Output:\n",
    "result = [1, 1, 2, 2, 3, 3]\n",
    "---------------------------\n",
    "Input:\n",
    "data = [1, 2, 3]\n",
    "k = 3\n",
    "\n",
    "Output:\n",
    "result = [1, 1, 1, 2, 2, 2, 3, 3, 3]\n",
    "'''"
   ]
  },
  {
   "cell_type": "code",
   "execution_count": 5,
   "id": "8c6e0299",
   "metadata": {},
   "outputs": [
    {
     "name": "stdout",
     "output_type": "stream",
     "text": [
      "0 0\n",
      "1 0\n",
      "2 1\n",
      "3 1\n",
      "4 2\n",
      "5 2\n"
     ]
    }
   ],
   "source": [
    "# implementation\n",
    "def nni_1d(data, k):\n",
    "    n = len(data)\n",
    "    \n",
    "    result_len = n*k\n",
    "    result = [0]*result_len\n",
    "    \n",
    "    for i in range(result_len):\n",
    "        print(i,i//2)\n",
    "        result[i] = data[i//k]\n",
    "        \n",
    "    return result\n",
    "\n",
    "# test case\n",
    "data = [1, 2, 3]\n",
    "k = 2\n",
    "assert nni_1d(data, k) == [1, 1, 2, 2, 3, 3]\n",
    "\n",
    "# data = [1, 2, 3]\n",
    "# k = 3\n",
    "# assert nni_1d(data, k) == [1, 1, 1, 2, 2, 2, 3, 3, 3]"
   ]
  },
  {
   "cell_type": "code",
   "execution_count": 15,
   "id": "f1fd1365",
   "metadata": {},
   "outputs": [
    {
     "name": "stdout",
     "output_type": "stream",
     "text": [
      "[1, 1, 2, 2, 3, 3]\n"
     ]
    }
   ],
   "source": [
    "# test 1\n",
    "data = [1, 2, 3]\n",
    "k = 2\n",
    "print(nni_1d(data, k))"
   ]
  },
  {
   "cell_type": "code",
   "execution_count": 16,
   "id": "d4681c6b",
   "metadata": {},
   "outputs": [
    {
     "name": "stdout",
     "output_type": "stream",
     "text": [
      "[1, 1, 1, 2, 2, 2, 3, 3, 3]\n"
     ]
    }
   ],
   "source": [
    "# test 2\n",
    "data = [1, 2, 3]\n",
    "k = 3\n",
    "print(nni_1d(data, k))"
   ]
  },
  {
   "cell_type": "code",
   "execution_count": 17,
   "id": "2f2bd3ce",
   "metadata": {},
   "outputs": [
    {
     "name": "stdout",
     "output_type": "stream",
     "text": [
      "[5, 5, 5, 7, 7, 7]\n"
     ]
    }
   ],
   "source": [
    "# multiple choice\n",
    "data = [5, 7]\n",
    "k = 3\n",
    "print(nni_1d(data, k))"
   ]
  },
  {
   "cell_type": "code",
   "execution_count": null,
   "id": "16995575",
   "metadata": {},
   "outputs": [],
   "source": []
  },
  {
   "cell_type": "markdown",
   "id": "92f59b82",
   "metadata": {},
   "source": [
    "#### Exercise 4 (nearest neighbor interpolation for 2D data)"
   ]
  },
  {
   "cell_type": "code",
   "execution_count": null,
   "id": "bc83e9bc",
   "metadata": {},
   "outputs": [],
   "source": [
    "'''\n",
    "Given a list of lists of numbers (n rows and m columns) and a factor k\n",
    "\n",
    "Question: write a function to interpolate each row of the list to a target \n",
    "(a new list with n rows and m*k columns) using nearest neighbor interpolation\n",
    "\n",
    "Examples\n",
    "Input:\n",
    "data = [[1, 2, 3],\n",
    "        [4, 5, 6],\n",
    "        [7, 8, 9]]\n",
    "k = 2\n",
    "        \n",
    "Output:\n",
    "result = [[1, 1, 2, 2, 3, 3], \n",
    "          [4, 4, 5, 5, 6, 6], \n",
    "          [7, 7, 8, 8, 9, 9]]\n",
    "---------------------------------\n",
    "Input:\n",
    "data = [[1, 2],\n",
    "        [4, 5],\n",
    "        [7, 8]]\n",
    "k = 2\n",
    "\n",
    "Output:\n",
    "result = [[1, 1, 2, 2], \n",
    "          [4, 4, 5, 5], \n",
    "          [7, 7, 8, 8]]\n",
    "'''"
   ]
  },
  {
   "cell_type": "code",
   "execution_count": 18,
   "id": "4e43567c",
   "metadata": {},
   "outputs": [],
   "source": [
    "# implementation\n",
    "def h_nni_2d(data, k):\n",
    "    n = len(data)\n",
    "    m = len(data[0])\n",
    "    \n",
    "    result_m = m*k\n",
    "    result = [[0]*result_m for _ in range(n)]    \n",
    "    \n",
    "    for i in range(n):\n",
    "        # for each row\n",
    "        for j in range(result_m):\n",
    "            result[i][j] = data[i][j//k]\n",
    "        \n",
    "    return result\n",
    "\n",
    "# test case\n",
    "data = [[1, 2, 3],\n",
    "        [4, 5, 6],\n",
    "        [7, 8, 9]]\n",
    "k = 2\n",
    "assert h_nni_2d(data, k) == [[1, 1, 2, 2, 3, 3], \n",
    "                             [4, 4, 5, 5, 6, 6], \n",
    "                             [7, 7, 8, 8, 9, 9]]\n",
    "\n",
    "data = [[1, 2],\n",
    "        [4, 5],\n",
    "        [7, 8]]\n",
    "k = 2\n",
    "assert h_nni_2d(data, k) == [[1, 1, 2, 2], \n",
    "                             [4, 4, 5, 5], \n",
    "                             [7, 7, 8, 8]]"
   ]
  },
  {
   "cell_type": "code",
   "execution_count": 19,
   "id": "4f251c73",
   "metadata": {},
   "outputs": [
    {
     "name": "stdout",
     "output_type": "stream",
     "text": [
      "[[1, 1, 2, 2, 3, 3], [4, 4, 5, 5, 6, 6], [7, 7, 8, 8, 9, 9]]\n"
     ]
    }
   ],
   "source": [
    "# test 1\n",
    "data = [[1, 2, 3],\n",
    "        [4, 5, 6],\n",
    "        [7, 8, 9]]\n",
    "k = 2\n",
    "print(h_nni_2d(data, k))"
   ]
  },
  {
   "cell_type": "code",
   "execution_count": 20,
   "id": "ef090a32",
   "metadata": {},
   "outputs": [
    {
     "name": "stdout",
     "output_type": "stream",
     "text": [
      "[[1, 1, 2, 2], [4, 4, 5, 5], [7, 7, 8, 8]]\n"
     ]
    }
   ],
   "source": [
    "# test 2\n",
    "data = [[1, 2],\n",
    "        [4, 5],\n",
    "        [7, 8]]\n",
    "k = 2\n",
    "print(h_nni_2d(data, k))"
   ]
  },
  {
   "cell_type": "code",
   "execution_count": 21,
   "id": "e8b2172c",
   "metadata": {},
   "outputs": [
    {
     "name": "stdout",
     "output_type": "stream",
     "text": [
      "[[3, 3, 3], [4, 4, 4]]\n"
     ]
    }
   ],
   "source": [
    "# multiple choice\n",
    "data = [[3],\n",
    "        [4]]\n",
    "k = 3\n",
    "print(h_nni_2d(data, k))"
   ]
  },
  {
   "cell_type": "code",
   "execution_count": null,
   "id": "377e39e9",
   "metadata": {},
   "outputs": [],
   "source": []
  },
  {
   "cell_type": "markdown",
   "id": "31d95e15",
   "metadata": {},
   "source": [
    "#### Exercise 5 (nearest neighbor interpolation for 2D data)"
   ]
  },
  {
   "cell_type": "code",
   "execution_count": null,
   "id": "c2f4c78a",
   "metadata": {},
   "outputs": [],
   "source": [
    "'''\n",
    "Given a list of lists of numbers (n rows and m columns) and a factor k\n",
    "\n",
    "Question: write a function to interpolate each column of the list to a target \n",
    "(a new list with n*k rows and m columns) using nearest neighbor interpolation\n",
    "\n",
    "Examples\n",
    "Input:\n",
    "data = [[1, 2, 3],\n",
    "        [4, 5, 6],\n",
    "        [7, 8, 9]]\n",
    "k = 2\n",
    "        \n",
    "Output:\n",
    "result = [[1, 2, 3],\n",
    "          [1, 2, 3],\n",
    "          [4, 5, 6]\n",
    "          [4, 5, 6],\n",
    "          [7, 8, 9],\n",
    "          [7, 8, 9]]\n",
    "-------------------------\n",
    "Input:\n",
    "data = [[1, 2],\n",
    "        [4, 5],\n",
    "        [7, 8]]\n",
    "k = 2\n",
    "\n",
    "Output:\n",
    "result = [[1, 2], \n",
    "          [1, 2], \n",
    "          [4, 5], \n",
    "          [4, 5], \n",
    "          [7, 8], \n",
    "          [7, 8]]\n",
    "'''"
   ]
  },
  {
   "cell_type": "code",
   "execution_count": 1,
   "id": "916e8965",
   "metadata": {},
   "outputs": [],
   "source": [
    "# implementation\n",
    "def v_nni_2d(data, k):\n",
    "    n = len(data)\n",
    "    m = len(data[0])\n",
    "    \n",
    "    result_n = n*k\n",
    "    result = [[0]*m for _ in range(result_n)]    \n",
    "    \n",
    "    for j in range(m):    \n",
    "        # for each column\n",
    "        for i in range(result_n):\n",
    "            result[i][j] = data[i//k][j]\n",
    "        \n",
    "    return result\n",
    "\n",
    "# test case\n",
    "data = [[1, 2, 3],\n",
    "        [4, 5, 6],\n",
    "        [7, 8, 9]]\n",
    "k = 2        \n",
    "assert v_nni_2d(data, k) ==  [[1, 2, 3],\n",
    "                              [1, 2, 3],\n",
    "                              [4, 5, 6],\n",
    "                              [4, 5, 6],\n",
    "                              [7, 8, 9],\n",
    "                              [7, 8, 9]]\n",
    "\n",
    "data = [[1, 2],\n",
    "        [4, 5],\n",
    "        [7, 8]]\n",
    "k = 2\n",
    "assert v_nni_2d(data, k) == [[1, 2], \n",
    "                             [1, 2], \n",
    "                             [4, 5], \n",
    "                             [4, 5], \n",
    "                             [7, 8], \n",
    "                             [7, 8]]"
   ]
  },
  {
   "cell_type": "code",
   "execution_count": 2,
   "id": "e40dd7ab",
   "metadata": {},
   "outputs": [
    {
     "name": "stdout",
     "output_type": "stream",
     "text": [
      "[[1, 2, 3], [1, 2, 3], [4, 5, 6], [4, 5, 6], [7, 8, 9], [7, 8, 9]]\n"
     ]
    }
   ],
   "source": [
    "# test 1\n",
    "data = [[1, 2, 3],\n",
    "        [4, 5, 6],\n",
    "        [7, 8, 9]]\n",
    "k = 2\n",
    "print(v_nni_2d(data, k))"
   ]
  },
  {
   "cell_type": "code",
   "execution_count": 3,
   "id": "a94dd13a",
   "metadata": {},
   "outputs": [
    {
     "name": "stdout",
     "output_type": "stream",
     "text": [
      "[[1, 2], [1, 2], [4, 5], [4, 5], [7, 8], [7, 8]]\n"
     ]
    }
   ],
   "source": [
    "# test 2\n",
    "data = [[1, 2],\n",
    "        [4, 5],\n",
    "        [7, 8]]\n",
    "k = 2\n",
    "print(v_nni_2d(data, k))"
   ]
  },
  {
   "cell_type": "code",
   "execution_count": 4,
   "id": "c8938639",
   "metadata": {},
   "outputs": [
    {
     "name": "stdout",
     "output_type": "stream",
     "text": [
      "[[3, 7], [3, 7]]\n"
     ]
    }
   ],
   "source": [
    "# multiple choice\n",
    "data = [[3, 7]]\n",
    "k = 2\n",
    "print(v_nni_2d(data, k))"
   ]
  },
  {
   "cell_type": "code",
   "execution_count": null,
   "id": "b503caa4",
   "metadata": {},
   "outputs": [],
   "source": []
  },
  {
   "cell_type": "markdown",
   "id": "ad49e9bb",
   "metadata": {},
   "source": [
    "#### Exercise 6 (nearest neighbor interpolation for 2D data)"
   ]
  },
  {
   "cell_type": "code",
   "execution_count": null,
   "id": "84a9b16e",
   "metadata": {},
   "outputs": [],
   "source": [
    "'''\n",
    "Given a list of lists of numbers (n rows and m columns) and a factor k\n",
    "\n",
    "Question: write a function to interpolate the list to a target \n",
    "(a new list with n*k rows and m*k columns) using nearest neighbor interpolation\n",
    "\n",
    "Examples\n",
    "Input:\n",
    "data = [[1, 2, 3],\n",
    "        [4, 5, 6],\n",
    "        [7, 8, 9]]\n",
    "k = 2\n",
    "        \n",
    "Output:\n",
    "result = [[1, 1, 2, 2, 3, 3], \n",
    "          [1, 1, 2, 2, 3, 3], \n",
    "          [4, 4, 5, 5, 6, 6], \n",
    "          [4, 4, 5, 5, 6, 6], \n",
    "          [7, 7, 8, 8, 9, 9], \n",
    "          [7, 7, 8, 8, 9, 9]]\n",
    "-----------------------------\n",
    "Input:\n",
    "data = [[1, 2],\n",
    "        [4, 5],\n",
    "        [7, 8]]\n",
    "k = 2\n",
    "\n",
    "Output:\n",
    "result = [[1, 1, 2, 2], \n",
    "          [1, 1, 2, 2], \n",
    "          [4, 4, 5, 5], \n",
    "          [4, 4, 5, 5], \n",
    "          [7, 7, 8, 8], \n",
    "          [7, 7, 8, 8]]\n",
    "'''"
   ]
  },
  {
   "cell_type": "code",
   "execution_count": 27,
   "id": "c28d708a",
   "metadata": {},
   "outputs": [],
   "source": [
    "# implementation\n",
    "def nni_2d(data, k):\n",
    "    n = len(data)\n",
    "    m = len(data[0])\n",
    "    \n",
    "    result_n = n*k\n",
    "    result_m = m*k\n",
    "    result = [[0]*result_m for _ in range(result_n)]    \n",
    "    \n",
    "    for i in range(result_n):\n",
    "        for j in range(result_m):         \n",
    "            result[i][j] = data[i//k][j//k]\n",
    "        \n",
    "    return result\n",
    "\n",
    "# test case\n",
    "data = [[1, 2, 3],\n",
    "        [4, 5, 6],\n",
    "        [7, 8, 9]]\n",
    "k = 2\n",
    "assert nni_2d(data, k) == [[1, 1, 2, 2, 3, 3], \n",
    "                           [1, 1, 2, 2, 3, 3], \n",
    "                           [4, 4, 5, 5, 6, 6], \n",
    "                           [4, 4, 5, 5, 6, 6], \n",
    "                           [7, 7, 8, 8, 9, 9], \n",
    "                           [7, 7, 8, 8, 9, 9]]\n",
    "\n",
    "data = [[1, 2],\n",
    "        [4, 5],\n",
    "        [7, 8]]\n",
    "k = 2\n",
    "assert nni_2d(data, k) == [[1, 1, 2, 2], \n",
    "                           [1, 1, 2, 2], \n",
    "                           [4, 4, 5, 5], \n",
    "                           [4, 4, 5, 5], \n",
    "                           [7, 7, 8, 8], \n",
    "                           [7, 7, 8, 8]]"
   ]
  },
  {
   "cell_type": "code",
   "execution_count": 28,
   "id": "4f7983a8",
   "metadata": {},
   "outputs": [
    {
     "name": "stdout",
     "output_type": "stream",
     "text": [
      "[[1, 1, 2, 2, 3, 3], [1, 1, 2, 2, 3, 3], [4, 4, 5, 5, 6, 6], [4, 4, 5, 5, 6, 6], [7, 7, 8, 8, 9, 9], [7, 7, 8, 8, 9, 9]]\n"
     ]
    }
   ],
   "source": [
    "# test 1\n",
    "data = [[1, 2, 3],\n",
    "        [4, 5, 6],\n",
    "        [7, 8, 9]]\n",
    "k = 2\n",
    "print(nni_2d(data, k))"
   ]
  },
  {
   "cell_type": "code",
   "execution_count": 29,
   "id": "bf982cf6",
   "metadata": {},
   "outputs": [
    {
     "name": "stdout",
     "output_type": "stream",
     "text": [
      "[[1, 1, 2, 2], [1, 1, 2, 2], [4, 4, 5, 5], [4, 4, 5, 5], [7, 7, 8, 8], [7, 7, 8, 8]]\n"
     ]
    }
   ],
   "source": [
    "# test 2\n",
    "data = [[1, 2],\n",
    "        [4, 5],\n",
    "        [7, 8]]\n",
    "k = 2\n",
    "print(nni_2d(data, k))"
   ]
  },
  {
   "cell_type": "code",
   "execution_count": 30,
   "id": "c2189c6d",
   "metadata": {},
   "outputs": [
    {
     "name": "stdout",
     "output_type": "stream",
     "text": [
      "[[1, 1, 2, 2, 3, 3, 4, 4], [1, 1, 2, 2, 3, 3, 4, 4]]\n"
     ]
    }
   ],
   "source": [
    "# multiple choice\n",
    "data = [[1, 2, 3, 4]]\n",
    "k = 2\n",
    "print(nni_2d(data, k))"
   ]
  },
  {
   "cell_type": "code",
   "execution_count": null,
   "id": "68f6f890",
   "metadata": {},
   "outputs": [],
   "source": []
  },
  {
   "cell_type": "markdown",
   "id": "fe987200",
   "metadata": {},
   "source": [
    "#### Exercise 7 (linear interpolation for 1D data)"
   ]
  },
  {
   "cell_type": "code",
   "execution_count": null,
   "id": "44a84da9",
   "metadata": {},
   "outputs": [],
   "source": [
    "'''\n",
    "Given a list of numbers (length n) and a factor k\n",
    "\n",
    "Question: write a function to interpolate the list to a target (new list) \n",
    "with the length of n*k using linear interpolation. Note that, for the sake of simplicity,\n",
    "you can ignore the last (k-1) element.\n",
    "\n",
    "Examples\n",
    "Input:\n",
    "data = [1, 2, 3]\n",
    "k = 2\n",
    "\n",
    "Output:\n",
    "result = [1.0, 1.5, 2.0, 2.5, 3.0, x]\n",
    "\n",
    "---------------------------------------\n",
    "Input:\n",
    "data = [1, 4, 7]\n",
    "k = 3\n",
    "\n",
    "Output:\n",
    "result = [1, 2.0, 3.0, 4, 5.0, 6.0, 7, x, x]\n",
    "'''"
   ]
  },
  {
   "cell_type": "code",
   "execution_count": 39,
   "id": "c88f42a0",
   "metadata": {},
   "outputs": [],
   "source": [
    "# implementation\n",
    "import math\n",
    "\n",
    "def linear_interpolation(p1, p2, x):\n",
    "    x1, y1 = p1\n",
    "    x2, y2 = p2\n",
    "    if x1 != x2:\n",
    "        y = ((x2-x)/(x2-x1))*y1 + ((x-x1)/(x2-x1))*y2\n",
    "    else:\n",
    "        y = y1\n",
    "    return y\n",
    "\n",
    "def li_1d(data, k):\n",
    "    n = len(data)\n",
    "    \n",
    "    result_len = n*k\n",
    "    result = [0]*result_len\n",
    "    \n",
    "    for i in range(result_len-k+1):\n",
    "        if i%k == 0:\n",
    "            result[i] = data[i//k]\n",
    "        else:\n",
    "            begin = math.floor(i/k)\n",
    "            end   = math.ceil(i/k)\n",
    "            p1 = (begin, data[begin])\n",
    "            p2 = (end, data[end])    \n",
    "            y = linear_interpolation(p1=p1, p2=p2, x=i/k)\n",
    "            result[i] = y\n",
    "        \n",
    "    return result\n",
    "\n",
    "# test case\n",
    "data = [1, 2, 3]\n",
    "k = 2\n",
    "assert li_1d(data, k)[:-1] == [1, 1.5, 2, 2.5, 3, 0][:-1]\n",
    "\n",
    "data = [1, 4, 7]\n",
    "k = 3\n",
    "assert li_1d(data, k)[:-2] == [1, 2.0, 3.0, 4, 5.0, 6.0, 7, 0, 0][:-2]"
   ]
  },
  {
   "cell_type": "code",
   "execution_count": 40,
   "id": "a7a9ea2c",
   "metadata": {},
   "outputs": [
    {
     "name": "stdout",
     "output_type": "stream",
     "text": [
      "[1, 1.5, 2, 2.5, 3, 0]\n"
     ]
    }
   ],
   "source": [
    "# test 1\n",
    "data = [1, 2, 3]\n",
    "k = 2\n",
    "print(li_1d(data, k))"
   ]
  },
  {
   "cell_type": "code",
   "execution_count": 41,
   "id": "606d1e19",
   "metadata": {},
   "outputs": [
    {
     "name": "stdout",
     "output_type": "stream",
     "text": [
      "[1, 2.0, 3.0, 4, 5.0, 6.0, 7, 0, 0]\n"
     ]
    }
   ],
   "source": [
    "# test 2\n",
    "data = [1, 4, 7]\n",
    "k = 3\n",
    "print(li_1d(data, k))"
   ]
  },
  {
   "cell_type": "code",
   "execution_count": 42,
   "id": "b81121cb",
   "metadata": {},
   "outputs": [
    {
     "name": "stdout",
     "output_type": "stream",
     "text": [
      "[7, 8.0, 9.0, 10]\n"
     ]
    }
   ],
   "source": [
    "# multiple choice\n",
    "data = [7, 10]\n",
    "k = 3\n",
    "print(li_1d(data, k)[:-2])"
   ]
  },
  {
   "cell_type": "markdown",
   "id": "a1f2adbc",
   "metadata": {},
   "source": [
    "#### Exercise 8 (linear interpolation for 1D data)"
   ]
  },
  {
   "cell_type": "code",
   "execution_count": null,
   "id": "ef6b778f",
   "metadata": {},
   "outputs": [],
   "source": [
    "import cv2\n",
    "import numpy as np\n",
    "import math\n",
    "\n",
    "def resize_nni(source, source_h, source_w, target_h, target_w):    \n",
    "    new_data = [[0]*target_w for _ in range(target_h)]\n",
    "    \n",
    "    #Calculate horizontal and vertical scaling factor\n",
    "    w_scale_factor = source_w/target_w \n",
    "    h_scale_factor = source_h/target_h\n",
    "    \n",
    "    for i in range(target_h):\n",
    "        for j in range(target_w):\n",
    "            y = math.floor(i*h_scale_factor)\n",
    "            x = math.floor(j*w_scale_factor)\n",
    "            new_data[i][j] = source[y][x]\n",
    "            \n",
    "    return new_data\n",
    "\n",
    "image = cv2.imread('tree.jpg', 0).tolist()\n",
    "\n",
    "height = len(image)\n",
    "width = len(image[0])\n",
    "\n",
    "new_image = resize_nni(image, height, width, height*2, width*2)\n",
    "cv2.imwrite('tree_2x.jpg', np.array(new_image))"
   ]
  }
 ],
 "metadata": {
  "kernelspec": {
   "display_name": "Python 3 (ipykernel)",
   "language": "python",
   "name": "python3"
  },
  "language_info": {
   "codemirror_mode": {
    "name": "ipython",
    "version": 3
   },
   "file_extension": ".py",
   "mimetype": "text/x-python",
   "name": "python",
   "nbconvert_exporter": "python",
   "pygments_lexer": "ipython3",
   "version": "3.8.2"
  }
 },
 "nbformat": 4,
 "nbformat_minor": 5
}
